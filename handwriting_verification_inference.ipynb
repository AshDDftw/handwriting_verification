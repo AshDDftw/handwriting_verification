{
 "cells": [
  {
   "cell_type": "code",
   "execution_count": null,
   "metadata": {},
   "outputs": [],
   "source": [
    "import pandas as pd\n",
    "import cv2\n",
    "import matplotlib.pyplot as plt\n",
    "import os\n",
    "from PIL import Image\n",
    "import numpy as np\n",
    "from tensorflow.keras.callbacks import EarlyStopping\n",
    "from tensorflow.keras.models import load_model"
   ]
  },
  {
   "attachments": {},
   "cell_type": "markdown",
   "metadata": {},
   "source": [
    "**Function to test a predefined model**"
   ]
  },
  {
   "cell_type": "code",
   "execution_count": null,
   "metadata": {},
   "outputs": [],
   "source": [
    "def test_predefined_model(model,test_csv_path,test_images_path):\n",
    "  test=pd.read_csv(test_csv_path)\n",
    "  rows,columns=test.shape\n",
    "\n",
    "  dataset=[]\n",
    "  values=[]\n",
    "  labels=[]\n",
    "  pred=[]\n",
    "\n",
    "\n",
    "  for row in range(rows):\n",
    "      path1=test.iloc[row,0]\n",
    "      path2=test.iloc[row,1]\n",
    "      img1=cv2.imread(test_images_path+'/'+path1,cv2.IMREAD_GRAYSCALE)\n",
    "      img2=cv2.imread(test_images_path+'/'+path2,cv2.IMREAD_GRAYSCALE)\n",
    "\n",
    "      imgA=cv2.resize(img1,(64,64),interpolation=cv2.INTER_LANCZOS4)\n",
    "      imgB=cv2.resize(img2,(64,64),interpolation=cv2.INTER_LANCZOS4)\n",
    "      value=model.predict([imgA.reshape((1, 64,64)),imgB.reshape((1, 64,64))]).flatten()[0]\n",
    "      # label=test.iloc[row,2]\n",
    "      values.append(value)\n",
    "\n",
    "      # labels.append(label)\n",
    "      # if(label>0.0001):\n",
    "      #     pred.append(1)\n",
    "      # else:\n",
    "      #     pred.append(0)\n",
    "      # Create a row for the dataset with image paths and label\n",
    "      row = {\n",
    "          'id':path1 + \"_\" + path2,\n",
    "\n",
    "          'proba':values[row]\n",
    "\n",
    "\n",
    "          }\n",
    "\n",
    "      # Append the row to the dataset\n",
    "      dataset.append(row)\n",
    "\n",
    "  # Convert the dataset list to a Pandas DataFrame\n",
    "  test_result = pd.DataFrame(dataset)\n",
    "\n",
    "  # Save the dataset to a CSV file\n",
    "  test_result.to_csv(\"test_result.csv\", index=False)\n",
    "\n",
    "\n"
   ]
  },
  {
   "cell_type": "code",
   "execution_count": null,
   "metadata": {},
   "outputs": [],
   "source": [
    "def test_model(model_path,test_csv_path,test_images_path):\n",
    "  # Load the saved model\n",
    "  model = load_model(model_path)\n",
    "\n",
    "  test_results = test_predefined_model(test_csv_path,test_images_path)"
   ]
  }
 ],
 "metadata": {
  "language_info": {
   "name": "python"
  },
  "orig_nbformat": 4
 },
 "nbformat": 4,
 "nbformat_minor": 2
}
